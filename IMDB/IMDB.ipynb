{
 "cells": [
  {
   "attachments": {},
   "cell_type": "markdown",
   "metadata": {},
   "source": [
    "Find the 'id' of the movie \"Andhadhun\" using TMDb API."
   ]
  },
  {
   "cell_type": "code",
   "execution_count": 3,
   "metadata": {},
   "outputs": [
    {
     "name": "stdout",
     "output_type": "stream",
     "text": [
      "534780\n"
     ]
    }
   ],
   "source": [
    "import requests\n",
    "# Write your code here\n",
    "api = requests.get(\"https://api.themoviedb.org/3/search/movie\",params={\"api_key\":\"b0e170ecb567978aca886a9ae13148f9\",\"query\":\"Andhadhun\"})\n",
    "\n",
    "data = api.json()\n",
    "arr = data[\"results\"]\n",
    "print(arr[0][\"id\"])"
   ]
  },
  {
   "attachments": {},
   "cell_type": "markdown",
   "metadata": {},
   "source": [
    "Fetch the company id company 'Marvel Studios' using TMDb. Print the id."
   ]
  },
  {
   "cell_type": "code",
   "execution_count": 4,
   "metadata": {},
   "outputs": [
    {
     "name": "stdout",
     "output_type": "stream",
     "text": [
      "420\n"
     ]
    }
   ],
   "source": [
    "api = requests.get(\"https://api.themoviedb.org/3/search/company\",params={\"api_key\":\"b0e170ecb567978aca886a9ae13148f9\",\"query\":\"Marvel Studios\"})\n",
    "\n",
    "data = api.json()\n",
    "arr = data[\"results\"]\n",
    "print(arr[0][\"id\"])"
   ]
  },
  {
   "attachments": {},
   "cell_type": "markdown",
   "metadata": {},
   "source": [
    "Find the vote count and vote average of the movie \"3 Idiots\" using the TMDb API"
   ]
  },
  {
   "cell_type": "code",
   "execution_count": 5,
   "metadata": {},
   "outputs": [
    {
     "name": "stdout",
     "output_type": "stream",
     "text": [
      "2022 7.977\n"
     ]
    }
   ],
   "source": [
    "\n",
    "api = requests.get(\"https://api.themoviedb.org/3/search/movie\",params={\"api_key\":\"b0e170ecb567978aca886a9ae13148f9\",\"query\":\"3 Idiots\"})\n",
    "# print(api.url)\n",
    "data = api.json()\n",
    "for i in data[\"results\"]:\n",
    "    if i[\"original_title\"]==\"3 Idiots\":\n",
    "        print(i[\"vote_count\"],i[\"vote_average\"])"
   ]
  },
  {
   "attachments": {},
   "cell_type": "markdown",
   "metadata": {},
   "source": [
    "Fetch the top rated english movies in the US region using the TMDb API. From the result, print the first 10 movies which have original language as english. Also print their genres.\n",
    "Note: Do not use the search/movies API for finding genres."
   ]
  },
  {
   "cell_type": "code",
   "execution_count": 6,
   "metadata": {},
   "outputs": [
    {
     "name": "stdout",
     "output_type": "stream",
     "text": [
      "The Godfather - Drama, Crime, \n",
      "The Shawshank Redemption - Drama, Crime, \n",
      "The Boy, the Mole, the Fox and the Horse - Animation, Family, Adventure, Fantasy, \n",
      "The Godfather Part II - Drama, Crime, \n",
      "Schindler's List - Drama, History, War, \n",
      "12 Angry Men - Drama, \n",
      "The Green Mile - Fantasy, Drama, Crime, \n",
      "The Dark Knight - Drama, Action, Crime, Thriller, \n",
      "Puss in Boots: The Last Wish - Animation, Adventure, Comedy, Family, Fantasy, \n",
      "Pulp Fiction - Thriller, Crime, \n"
     ]
    }
   ],
   "source": [
    "import requests\n",
    "## Write your code here\n",
    "\n",
    "api_key = \"b0e170ecb567978aca886a9ae13148f9\"\n",
    "api_link = \"https://api.themoviedb.org/3\"\n",
    "params = {\"api_key\":api_key,\"region\":'US'}\n",
    "header = {'Accept': 'application/json'}\n",
    "response = requests.get(api_link + \"/movie/top_rated\",headers=header,params=params)\n",
    "data = response.json() \n",
    "results = data.get('results') \n",
    "title_array = [] \n",
    "genre_id_array = [] \n",
    "for result in results: \n",
    "    if result.get('original_language') == 'en': \n",
    "        title_array.append(result.get('title')) \n",
    "        genre_id_array.append(result.get('genre_ids')) \n",
    "        \n",
    "# To get the genre name corresponding to genre_id \n",
    "response2 = requests.get(api_link + \"/genre/movie/list\", headers = header, params = params) \n",
    "data2 = response2.json() \n",
    "genres = data2.get('genres') \n",
    "mapping = {} \n",
    "for genre in genres: \n",
    "    mapping[genre.get('id')] = genre.get('name') \n",
    "    \n",
    "for i in range(10): \n",
    "    print(title_array[i], \"-\", end=\" \") \n",
    "    for id in genre_id_array[i]: \n",
    "        print(mapping.get(id), end = \", \") \n",
    "    print()"
   ]
  },
  {
   "attachments": {},
   "cell_type": "markdown",
   "metadata": {},
   "source": [
    "Fetch the Instagram and Twitter handle of Indian Actress \"Alia Bhatt\" from the TMDb API."
   ]
  },
  {
   "cell_type": "code",
   "execution_count": 7,
   "metadata": {},
   "outputs": [
    {
     "name": "stdout",
     "output_type": "stream",
     "text": [
      "aliaabhatt  Aliaa08\n"
     ]
    }
   ],
   "source": [
    "import requests\n",
    "api_key = \"b0a53d521764ab3bc5732e74a5cc06c9\"\n",
    "api_link = \"https://api.themoviedb.org/3\"\n",
    "params = {'api_key':api_key}\n",
    "header = {'Accept': 'application/json'}\n",
    "response2 = requests.get(api_link + \"/person/\"+str(1108120)+\"/external_ids\", headers = header, params=params)\n",
    "data=response2.json()\n",
    "print(data['instagram_id'],'',data['twitter_id'])"
   ]
  },
  {
   "attachments": {},
   "cell_type": "markdown",
   "metadata": {},
   "source": [
    "Fetch the names of the character played by Tom Cruise in the movies:\n",
    "Top Gun\n",
    "Mission: Impossible - Fallout\n",
    "Minority Report\n",
    "Edge of Tomorrow"
   ]
  },
  {
   "cell_type": "code",
   "execution_count": 8,
   "metadata": {},
   "outputs": [
    {
     "name": "stdout",
     "output_type": "stream",
     "text": [
      "Lt. Pete 'Maverick' Mitchell\n",
      "Ethan Hunt\n",
      "Chief John Anderton\n",
      "Maj. William 'Bill' Cage\n"
     ]
    }
   ],
   "source": [
    "\n",
    "import requests\n",
    "api_key = \"b0a53d521764ab3bc5732e74a5cc06c9\"\n",
    "api_link = \"https://api.themoviedb.org/3\"\n",
    "params = {'api_key':api_key,'query':'Tom Cruise'}\n",
    "header = {'Accept': 'application/json'}\n",
    "response2 = requests.get(api_link + \"/person/\"+str(500)+\"/movie_credits\", headers = header, params=params)\n",
    "data=response2.json()\n",
    "for result in data['cast']:\n",
    "    if result['title']=='Top Gun':\n",
    "        print(result['character'],)\n",
    "for result in data['cast']:\n",
    "    if result['title']=='Mission: Impossible - Fallout':\n",
    "        print(result['character'])\n",
    "for result in data['cast']:\n",
    "    if result['title']=='Minority Report':\n",
    "        print(result['character'])\n",
    "for result in data['cast']:\n",
    "    if result['title']=='Edge of Tomorrow':\n",
    "        print(result['character'])"
   ]
  },
  {
   "attachments": {},
   "cell_type": "markdown",
   "metadata": {},
   "source": [
    "Did James McAvoy play a role in the movie Deadpool 2. Print Yes or No."
   ]
  },
  {
   "cell_type": "code",
   "execution_count": 9,
   "metadata": {},
   "outputs": [
    {
     "name": "stdout",
     "output_type": "stream",
     "text": [
      "Yes\n"
     ]
    }
   ],
   "source": [
    "import requests\n",
    "api_key = \"b0a53d521764ab3bc5732e74a5cc06c9\"\n",
    "api_link = \"https://api.themoviedb.org/3\"\n",
    "params = {'api_key':api_key,'query':'Deadpool 2'}\n",
    "header = {'Accept': 'application/json'}\n",
    "response2 = requests.get(api_link + \"/person/\"+str(5530)+\"/movie_credits\", headers = header, params=params)\n",
    "data=response2.json()\n",
    "for result in data['cast']:\n",
    "    if result['title']=='Deadpool 2':\n",
    "        a=result['title']\n",
    "        if a=='Deadpool 2':\n",
    "            print('Yes')\n",
    "        else:\n",
    "            print('No')"
   ]
  },
  {
   "attachments": {},
   "cell_type": "markdown",
   "metadata": {},
   "source": [
    "Using the result obtained in previous question, find out if James McAvoy was credited for his role in movie Deadpool 2. Print Yes or No."
   ]
  },
  {
   "cell_type": "code",
   "execution_count": 10,
   "metadata": {},
   "outputs": [
    {
     "name": "stdout",
     "output_type": "stream",
     "text": [
      "No\n"
     ]
    }
   ],
   "source": [
    "import requests\n",
    "api_key = \"b0a53d521764ab3bc5732e74a5cc06c9\"\n",
    "api_link = \"https://api.themoviedb.org/3\"\n",
    "params = {'api_key':api_key,}\n",
    "header = {'Accept': 'application/json'}\n",
    "response2 = requests.get(api_link + \"/person/\"+str(5530)+\"/movie_credits\", headers = header, params=params)\n",
    "data=response2.json()\n",
    "for result in data['cast']:\n",
    "    if result['title']=='Deadpool 2':\n",
    "        a=result['character']\n",
    "        print('No')"
   ]
  },
  {
   "attachments": {},
   "cell_type": "markdown",
   "metadata": {},
   "source": [
    "Fetch the name and air date of S06E05 of the TV Show 'The Big Bang Theory' from TMDb API."
   ]
  },
  {
   "cell_type": "code",
   "execution_count": 11,
   "metadata": {},
   "outputs": [
    {
     "name": "stdout",
     "output_type": "stream",
     "text": [
      "The Holographic Excitation - 2012-10-25\n"
     ]
    }
   ],
   "source": [
    "import requests\n",
    "api_key = \"b0a53d521764ab3bc5732e74a5cc06c9\"\n",
    "api_link = \"https://api.themoviedb.org/3\"\n",
    "params = {'api_key':api_key,'query':'The Big Bang Theory'}\n",
    "header = {'Accept': 'application/json'}\n",
    "response2 = requests.get(api_link + \"/tv/\"+str(1418)+\"/season/\"+str(6)+\"/episode/\"+str(5), headers = header, params=params)\n",
    "data=response2.json()\n",
    "print(data['name'],\"-\",data['air_date'])"
   ]
  },
  {
   "attachments": {},
   "cell_type": "markdown",
   "metadata": {},
   "source": [
    "Fetch the trending TV Shows for the week from the TMDb API and print the taglines of the top 5 shows. If there is no tagline, print 'Empty' instead"
   ]
  },
  {
   "cell_type": "code",
   "execution_count": 12,
   "metadata": {},
   "outputs": [
    {
     "name": "stdout",
     "output_type": "stream",
     "text": [
      "When you're lost in the darkness, look for the light.\n",
      "Empty\n",
      "Empty\n",
      "A bloody good time.\n",
      "Empty\n"
     ]
    }
   ],
   "source": [
    "import requests \n",
    "api_key = \"e226f4a5f5bace766952aa0d17182959\" \n",
    "api_link = \"https://api.themoviedb.org/3\" \n",
    "params = {'api_key':api_key} \n",
    "header = {'Accept': 'application/json'} \n",
    "response = requests.get(api_link + \"/trending/tv/week\", headers = header, params = params) \n",
    "data = response.json() \n",
    "results = data.get(\"results\") \n",
    "ids=[] \n",
    "for result in results[:5]: \n",
    "    ids.append(result.get(\"id\")) \n",
    "    \n",
    "for id in ids: \n",
    "    response2 = requests.get(api_link + \"/tv/\" + str(id) , headers = header, params = params) \n",
    "    data2 = response2.json() \n",
    "    if (data2.get(\"tagline\")) != \"\": \n",
    "        print(data2.get(\"tagline\")) \n",
    "    else: \n",
    "        print('Empty')"
   ]
  },
  {
   "attachments": {},
   "cell_type": "markdown",
   "metadata": {},
   "source": [
    "Print the names of all the TV shows to be aired today whose original language is english."
   ]
  },
  {
   "cell_type": "code",
   "execution_count": 13,
   "metadata": {},
   "outputs": [
    {
     "name": "stdout",
     "output_type": "stream",
     "text": [
      "The Price Is Right\n",
      "The Flash\n",
      "Let's Make a Deal\n",
      "South Park\n",
      "PBS NewsHour\n",
      "The Daily Show with Trevor Noah\n",
      "Hollyoaks\n",
      "Chicago Fire\n",
      "LIVE with Kelly and Ryan\n",
      "Chicago P.D.\n",
      "Pointless\n",
      "Love Island\n",
      "Emmerdale\n",
      "Hot Bench\n",
      "General Hospital\n",
      "Days of Our Lives\n",
      "Naked News\n",
      "The View\n",
      "Star Wars: The Bad Batch\n",
      "The ReidOut\n",
      "People Puzzler\n",
      "Chicago Med\n",
      "Tamron Hall\n",
      "Coronation Street\n",
      "The Late Show with Stephen Colbert\n",
      "Home and Away\n",
      "Shortland Street\n",
      "EastEnders\n",
      "CBS Evening News\n",
      "The Steve Wilkos Show\n",
      "The People's Court\n",
      "Dr. Phil\n",
      "Not Dead Yet\n",
      "The Challenge\n",
      "The Goldbergs\n",
      "Work It Out Wombats!\n",
      "The Young and the Restless\n",
      "Late Night with Seth Meyers\n",
      "NOVA\n",
      "Married at First Sight\n",
      "A Million Little Things\n",
      "Family Feud Canada\n",
      "Access Hollywood\n",
      "Kung Fu\n",
      "Married at First Sight\n",
      "Wu-Tang: An American Saga\n",
      "The Ark\n",
      "Abbott Elementary\n",
      "All Elite Wrestling: Dynamite\n",
      "Relative Justice\n",
      "Watch What Happens: Live\n",
      "The Masked Singer\n",
      "Nature\n",
      "American Pickers\n",
      "grown-ish\n",
      "My 600-lb Life\n",
      "The Conners\n",
      "Tyler Perry's Sistas\n",
      "The Nevers\n",
      "Vanderpump Rules\n",
      "Guy's Grocery Games\n",
      "The Catch\n",
      "See No Evil\n",
      "Dimension 20\n",
      "The Kelly Clarkson Show\n",
      "Grand Designs Australia\n",
      "Trafficked with Mariana van Zeller\n",
      "Alex Wagner Tonight\n",
      "WWE's The Bump\n",
      "Pretty Hard Cases\n",
      "Rachael Ray\n",
      "Tough As Nails\n",
      "African Queens: Njinga\n",
      "Next Level Chef UK\n",
      "In With the Old\n",
      "Jimmy Kimmel Live!\n",
      "Divorce Court\n",
      "Surgeons: At the Edge of Life\n",
      "Run The Burbs\n",
      "Power Slap: Road to the Title\n",
      "Homicide Hunter: American Detective\n",
      "Brother vs. Brother\n",
      "The Dog House Australia\n",
      "Full Swing\n",
      "Moonshiners Master Distiller\n",
      "The Drew Barrymore Show\n",
      "Dogs in the Wild\n",
      "The Jennifer Hudson Show\n",
      "The Project\n",
      "Lingo\n",
      "Sherri\n",
      "Guessable\n",
      "Li'l Doc\n",
      "Trails to Oishii Tokyo\n",
      "1000-lb Best Friends\n",
      "Sort Your Life Out With Stacey Solomon\n",
      "Crash Course Climate & Energy\n",
      "Great British Menu\n",
      "Supreme Justice with Judge Karen\n",
      "Are You The One?\n",
      "Justice with Judge Mablean\n",
      "Master Minds\n",
      "Hard Quiz\n",
      "Celebrity Treasure Island\n",
      "Switch\n",
      "25 Words or Less\n",
      "Rick Stein's Cornwall\n",
      "RISING\n",
      "Legends of Welsh Sport\n"
     ]
    }
   ],
   "source": [
    "import requests as rq\n",
    "page_num = 1\n",
    "api_key = 'e226f4a5f5bace766952aa0d17182959'\n",
    "api_link = 'https://api.themoviedb.org/3'\n",
    "header = {'Accept':'application/json'}\n",
    "params = {'language':'en','api_key':api_key}\n",
    "r = rq.get(api_link+'/tv/airing_today',headers = header,params = params)\n",
    "data = r.json()\n",
    "# print(data)\n",
    "res = data['results']\n",
    "page_num = data.get('total_pages')\n",
    "# print(page_num)\n",
    "for i in range(1,page_num + 1):\n",
    "    params = {'language':\"en\",'api_key':api_key,'page':i}\n",
    "    r = rq.get(api_link+'/tv/airing_today',headers = header,params = params)\n",
    "    data = r.json()\n",
    "    results = data.get('results')\n",
    "    for r in results:\n",
    "        if r['original_language'] == 'en':\n",
    "            print(r['name'])"
   ]
  }
 ],
 "metadata": {
  "kernelspec": {
   "display_name": "Python 3",
   "language": "python",
   "name": "python3"
  },
  "language_info": {
   "codemirror_mode": {
    "name": "ipython",
    "version": 3
   },
   "file_extension": ".py",
   "mimetype": "text/x-python",
   "name": "python",
   "nbconvert_exporter": "python",
   "pygments_lexer": "ipython3",
   "version": "3.11.2"
  },
  "orig_nbformat": 4,
  "vscode": {
   "interpreter": {
    "hash": "5238573367df39f7286bb46f9ff5f08f63a01a80960060ce41e3c79b190280fa"
   }
  }
 },
 "nbformat": 4,
 "nbformat_minor": 2
}
